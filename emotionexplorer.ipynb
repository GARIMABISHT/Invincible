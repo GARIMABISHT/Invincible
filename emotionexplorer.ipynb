#data acquired from this github directory: https://github.com/muxspace/facial_expressions
import numpy as np
import pandas as pd
import matplotlib.pyplot as plt
import matplotlib.image as mpimg
from tqdm import tqdm
%matplotlib inline
# Get path to data directory
import os
workingdir = os.path.abspath(os.getcwd())
datadir = workingdir + '\data'
expressiondir = datadir + "\\facial_expressions"
datafile = expressiondir + '/data/legend.csv'          # First table with labels
datafile2 = expressiondir + '/data/500_picts_satz.csv' # 2nd table with labels - will be used as test data
imagedir = expressiondir + '\\images'  # Directory of actual images
face1 = pd.read_csv(datafile, index_col = False)
face2 = pd.read_csv(datafile2, names = face1.columns, index_col = False)
faces = pd.concat([face1,face2])
faces = faces[1:] # First image corrupted, drop it
faces = faces.reset_index(drop = True)
face1.loc[face1.emotion == 'HAPPINESS','emotion'] = 'positive'
face1.loc[face1.emotion == 'happiness','emotion'] = 'positive'
face1.loc[face1.emotion == 'sadness','emotion'] = 'negative'
face1.loc[face1.emotion == 'sad','emotion'] = 'negative'
face1.loc[face1.emotion == 'SADNESS','emotion'] = 'negative'
face1.loc[face1.emotion == 'DISGUST','emotion'] = 'negative'
face1.loc[face1.emotion == 'disgust','emotion'] = 'negative'
face1.loc[face1.emotion == 'FEAR','emotion'] = 'negative'
face1.loc[face1.emotion == 'fear','emotion'] = 'negative'
face1.loc[face1.emotion == 'ANGER','emotion'] = 'negative'
face1.loc[face1.emotion == 'anger','emotion'] = 'negative'

face1.loc[face1.emotion == 'NEUTRAL','emotion'] = 'neutral'

face1 = face1.drop(np.where(face1.emotion == 'contempt')[0], axis = 0).reset_index(drop = True)
face1 = face1.drop(np.where(face1.emotion == 'surprise')[0], axis = 0).reset_index(drop=True)
face1 = face1.drop(np.where(face1.emotion == 'SURPRISE')[0], axis = 0).reset_index(drop=True)

emotions = face1.emotion.value_counts()

emotions
facevalue = {value : test for test, value in enumerate(face1.emotion.value_counts().sort_values().to_dict())}
facevalue
# for the inverse, do list(facevalue.keys())[value]
emotionvalue = faces.emotion.apply(lambda x: facevalue[x])
emotionvalue
face1.emotion = face1.emotion.apply(lambda x: facevalue[x])
face1.to_csv(expressiondir + '/data/legend.csv', index = False)

face2.emotion = face2.emotion.apply(lambda x: facevalue[x])
face2.to_csv(expressiondir + '/data/legend2.csv', index = False)

def rgb2gray(rgb):
    return np.dot(rgb[...,:3], [0.2989, 0.5870, 0.1140])
def gray2rgb(gray):
    return np.stack([gray, gray, gray], axis = 2)
    
    idx = 1
image1 = imagedir + '/' + face2.image.iloc[idx]
img=mpimg.imread(image1)
plt.imshow(img); plt.show()
# if img.ndim>2:
#     img = rgb2gray(img)
if img.ndim == 2:
    img = gray2rgb(img)
plt.imshow(img)
test_image = []
for i in tqdm(range(X_file.shape[0])):
    image = imagedir + '/' + X_file[i]
    img=mpimg.imread(image)
#     if img.ndim>2:
#         img = rgb2gray(img)
    if img.ndim == 2:
        img = gray2rgb(img)
    test_image.append(img)
test_image = np.stack(test_image, axis = 0)
test_image.shape
